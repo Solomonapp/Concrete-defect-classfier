{
  "nbformat": 4,
  "nbformat_minor": 0,
  "metadata": {
    "colab": {
      "name": "cd project .ipynb",
      "private_outputs": true,
      "provenance": [],
      "collapsed_sections": [],
      "authorship_tag": "ABX9TyPSvGJk5fCvtn9kfjurc0RW"
    },
    "kernelspec": {
      "name": "python3",
      "display_name": "Python 3"
    },
    "accelerator": "GPU"
  },
  "cells": [
    {
      "cell_type": "code",
      "metadata": {
        "id": "O8F9qRDYq6B7"
      },
      "source": [
        "!pip install tflite-model-maker"
      ],
      "execution_count": null,
      "outputs": []
    },
    {
      "cell_type": "code",
      "metadata": {
        "id": "8RtkcxMTq-eh"
      },
      "source": [
        "import os\r\n",
        "\r\n",
        "import numpy as np\r\n",
        "\r\n",
        "import tensorflow as tf\r\n",
        "assert tf.__version__.startswith('2')\r\n",
        "\r\n",
        "from tflite_model_maker import configs\r\n",
        "from tflite_model_maker import ExportFormat\r\n",
        "from tflite_model_maker import image_classifier\r\n",
        "from tflite_model_maker import ImageClassifierDataLoader\r\n",
        "from tflite_model_maker import model_spec\r\n",
        "\r\n",
        "import matplotlib.pyplot as plt"
      ],
      "execution_count": null,
      "outputs": []
    },
    {
      "cell_type": "code",
      "metadata": {
        "id": "QdacxyRkF9Yl"
      },
      "source": [
        "from zipfile import ZipFile\r\n",
        "file_name = \"data.zip\"\r\n",
        "with ZipFile(file_name, 'r') as zip:\r\n",
        "  zip.extractall()\r\n",
        "  print('Done')"
      ],
      "execution_count": null,
      "outputs": []
    },
    {
      "cell_type": "code",
      "metadata": {
        "id": "7o7E9IHtAGFS"
      },
      "source": [
        "image_path = '/content/Data'"
      ],
      "execution_count": null,
      "outputs": []
    },
    {
      "cell_type": "code",
      "metadata": {
        "id": "Ymdww24tApSI"
      },
      "source": [
        "data = ImageClassifierDataLoader.from_folder(image_path)\r\n",
        "#train_data, test_data = data.split(0.9)"
      ],
      "execution_count": null,
      "outputs": []
    },
    {
      "cell_type": "code",
      "metadata": {
        "id": "uZCC9r_NlFcw"
      },
      "source": [
        "train_data, rest_data = data.split(0.8)\r\n",
        "validation_data, test_data = rest_data.split(0.5)"
      ],
      "execution_count": null,
      "outputs": []
    },
    {
      "cell_type": "code",
      "metadata": {
        "id": "qappBEGADbZ8"
      },
      "source": [
        "#model = image_classifier.create(train_data)\r\n",
        "#model = image_classifier.create(train_data, validation_data=validation_data)\r\n",
        "model = image_classifier.create(train_data, model_spec=model_spec.mobilenet_v2_spec, validation_data=validation_data)\r\n"
      ],
      "execution_count": null,
      "outputs": []
    },
    {
      "cell_type": "code",
      "metadata": {
        "id": "SPLYgMN-HHjw"
      },
      "source": [
        "\r\n",
        "loss, accuracy = model.evaluate(test_data)"
      ],
      "execution_count": null,
      "outputs": []
    },
    {
      "cell_type": "code",
      "metadata": {
        "id": "ffKQGp4whnqA"
      },
      "source": [
        "model.summary()"
      ],
      "execution_count": null,
      "outputs": []
    },
    {
      "cell_type": "code",
      "metadata": {
        "id": "0-aKRzvYiEDD"
      },
      "source": [
        "# A helper function that returns 'red'/'black' depending on if its two input\r\n",
        "# parameter matches or not.\r\n",
        "def get_label_color(val1, val2):\r\n",
        "  if val1 == val2:\r\n",
        "    return 'black'\r\n",
        "  else:\r\n",
        "    return 'red'\r\n",
        "\r\n",
        "# Then plot 100 test images and their predicted labels.\r\n",
        "# If a prediction result is different from the label provided label in \"test\"\r\n",
        "# dataset, we will highlight it in red color.\r\n",
        "plt.figure(figsize=(20, 20))\r\n",
        "predicts = model.predict_top_k(test_data)\r\n",
        "for i, (image, label) in enumerate(test_data.gen_dataset().unbatch().take(30)):\r\n",
        "  ax = plt.subplot(10, 10, i+1)\r\n",
        "  plt.xticks([])\r\n",
        "  plt.yticks([])\r\n",
        "  plt.grid(False)\r\n",
        "  plt.imshow(image.numpy(), cmap=plt.cm.gray)\r\n",
        "\r\n",
        "  predict_label = predicts[i][0][0]\r\n",
        "  color = get_label_color(predict_label,\r\n",
        "                          test_data.index_to_label[label.numpy()])\r\n",
        "  ax.xaxis.label.set_color(color)\r\n",
        "  plt.xlabel('Predicted: %s' % predict_label)\r\n",
        "plt.show()"
      ],
      "execution_count": null,
      "outputs": []
    },
    {
      "cell_type": "code",
      "metadata": {
        "id": "xnppgbh4IB0O"
      },
      "source": [
        "model.export(export_dir='.', with_metadata=True)"
      ],
      "execution_count": null,
      "outputs": []
    }
  ]
}